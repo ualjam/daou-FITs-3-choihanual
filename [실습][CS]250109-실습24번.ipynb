{
  "nbformat": 4,
  "nbformat_minor": 0,
  "metadata": {
    "colab": {
      "provenance": [],
      "authorship_tag": "ABX9TyPO9dE+PYrYD7KV+KEAwZTE",
      "include_colab_link": true
    },
    "kernelspec": {
      "name": "python3",
      "display_name": "Python 3"
    },
    "language_info": {
      "name": "python"
    }
  },
  "cells": [
    {
      "cell_type": "markdown",
      "metadata": {
        "id": "view-in-github",
        "colab_type": "text"
      },
      "source": [
        "<a href=\"https://colab.research.google.com/github/ualjam/daou-FITs-3-choihanual/blob/%EC%8B%A4%EC%8A%B5/%5B%EC%8B%A4%EC%8A%B5%5D%5BCS%5D250109-%EC%8B%A4%EC%8A%B524%EB%B2%88.ipynb\" target=\"_parent\"><img src=\"https://colab.research.google.com/assets/colab-badge.svg\" alt=\"Open In Colab\"/></a>"
      ]
    },
    {
      "cell_type": "code",
      "execution_count": 4,
      "metadata": {
        "id": "HqOd__XyoFx3"
      },
      "outputs": [],
      "source": [
        "import pandas as pd\n",
        "import numpy as np\n",
        "\n",
        "np.random.seed(42)\n",
        "\n",
        "n=1000\n",
        "\n",
        "data={\n",
        "    'customer_id':np.arange(1,n+1),\n",
        "    'age' :np.random.randint(18,70,size=n),\n",
        "    'tenure':np.random.randint(1,10,size=n),\n",
        "    'balance':np.random.uniform(0,25000,size=n),\n",
        "    'num_proudcts':np.random.randint(1,4,size=n),\n",
        "    'has_credit_card': np.random.choice([0,1], size=n),\n",
        "    'is_active_member': np.random.choice([0,1], size= n),\n",
        "    'estimated_salary':np.random.uniform(30000,150000,size=n),\n",
        "    'churn':np.random.choice([0,1],size=n,p=[0.8,0.2])\n",
        "}"
      ]
    },
    {
      "cell_type": "code",
      "source": [
        "df = pd.DataFrame(data)\n",
        "\n",
        "df.to_csv('custormer_churn.csv', index=False)\n",
        "\n",
        "print(df.head())"
      ],
      "metadata": {
        "colab": {
          "base_uri": "https://localhost:8080/"
        },
        "id": "zp8idd6ZpHFD",
        "outputId": "7ffd520b-d574-4449-e532-1ecc706d6cd6"
      },
      "execution_count": 5,
      "outputs": [
        {
          "output_type": "stream",
          "name": "stdout",
          "text": [
            "   customer_id  age  tenure       balance  num_proudcts  has_credit_card  \\\n",
            "0            1   56       3   6151.741470             1                1   \n",
            "1            2   69       3  11917.386876             1                0   \n",
            "2            3   46       9   9859.133095             1                0   \n",
            "3            4   32       7  13735.355961             1                1   \n",
            "4            5   60       5  18671.892903             1                1   \n",
            "\n",
            "   is_active_member  estimated_salary  churn  \n",
            "0                 0      51227.634099      0  \n",
            "1                 1     148480.339030      0  \n",
            "2                 0      83292.426829      0  \n",
            "3                 1      93824.611981      0  \n",
            "4                 0     134834.223448      0  \n"
          ]
        }
      ]
    }
  ]
}