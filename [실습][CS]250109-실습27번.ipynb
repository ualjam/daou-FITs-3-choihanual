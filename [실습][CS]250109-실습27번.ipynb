{
  "nbformat": 4,
  "nbformat_minor": 0,
  "metadata": {
    "colab": {
      "provenance": [],
      "include_colab_link": true
    },
    "kernelspec": {
      "name": "python3",
      "display_name": "Python 3"
    },
    "language_info": {
      "name": "python"
    }
  },
  "cells": [
    {
      "cell_type": "markdown",
      "metadata": {
        "id": "view-in-github",
        "colab_type": "text"
      },
      "source": [
        "<a href=\"https://colab.research.google.com/github/ualjam/daou-FITs-3-choihanual/blob/%EC%8B%A4%EC%8A%B5/%5B%EC%8B%A4%EC%8A%B5%5D%5BCS%5D250109-%EC%8B%A4%EC%8A%B527%EB%B2%88.ipynb\" target=\"_parent\"><img src=\"https://colab.research.google.com/assets/colab-badge.svg\" alt=\"Open In Colab\"/></a>"
      ]
    },
    {
      "cell_type": "code",
      "source": [
        "!pip install streamlit\n",
        "!pip install pyngrok"
      ],
      "metadata": {
        "colab": {
          "base_uri": "https://localhost:8080/"
        },
        "id": "He-sRAtg7r0S",
        "outputId": "bb96f323-86c2-48c1-ec33-53f293ad7bed"
      },
      "execution_count": 1,
      "outputs": [
        {
          "output_type": "stream",
          "name": "stdout",
          "text": [
            "Collecting streamlit\n",
            "  Downloading streamlit-1.41.1-py2.py3-none-any.whl.metadata (8.5 kB)\n",
            "Requirement already satisfied: altair<6,>=4.0 in /usr/local/lib/python3.10/dist-packages (from streamlit) (5.5.0)\n",
            "Requirement already satisfied: blinker<2,>=1.0.0 in /usr/local/lib/python3.10/dist-packages (from streamlit) (1.9.0)\n",
            "Requirement already satisfied: cachetools<6,>=4.0 in /usr/local/lib/python3.10/dist-packages (from streamlit) (5.5.0)\n",
            "Requirement already satisfied: click<9,>=7.0 in /usr/local/lib/python3.10/dist-packages (from streamlit) (8.1.8)\n",
            "Requirement already satisfied: numpy<3,>=1.23 in /usr/local/lib/python3.10/dist-packages (from streamlit) (1.26.4)\n",
            "Requirement already satisfied: packaging<25,>=20 in /usr/local/lib/python3.10/dist-packages (from streamlit) (24.2)\n",
            "Requirement already satisfied: pandas<3,>=1.4.0 in /usr/local/lib/python3.10/dist-packages (from streamlit) (2.2.2)\n",
            "Requirement already satisfied: pillow<12,>=7.1.0 in /usr/local/lib/python3.10/dist-packages (from streamlit) (11.1.0)\n",
            "Requirement already satisfied: protobuf<6,>=3.20 in /usr/local/lib/python3.10/dist-packages (from streamlit) (4.25.5)\n",
            "Requirement already satisfied: pyarrow>=7.0 in /usr/local/lib/python3.10/dist-packages (from streamlit) (17.0.0)\n",
            "Requirement already satisfied: requests<3,>=2.27 in /usr/local/lib/python3.10/dist-packages (from streamlit) (2.32.3)\n",
            "Requirement already satisfied: rich<14,>=10.14.0 in /usr/local/lib/python3.10/dist-packages (from streamlit) (13.9.4)\n",
            "Requirement already satisfied: tenacity<10,>=8.1.0 in /usr/local/lib/python3.10/dist-packages (from streamlit) (9.0.0)\n",
            "Requirement already satisfied: toml<2,>=0.10.1 in /usr/local/lib/python3.10/dist-packages (from streamlit) (0.10.2)\n",
            "Requirement already satisfied: typing-extensions<5,>=4.3.0 in /usr/local/lib/python3.10/dist-packages (from streamlit) (4.12.2)\n",
            "Collecting watchdog<7,>=2.1.5 (from streamlit)\n",
            "  Downloading watchdog-6.0.0-py3-none-manylinux2014_x86_64.whl.metadata (44 kB)\n",
            "\u001b[2K     \u001b[90m━━━━━━━━━━━━━━━━━━━━━━━━━━━━━━━━━━━━━━━━\u001b[0m \u001b[32m44.3/44.3 kB\u001b[0m \u001b[31m1.6 MB/s\u001b[0m eta \u001b[36m0:00:00\u001b[0m\n",
            "\u001b[?25hRequirement already satisfied: gitpython!=3.1.19,<4,>=3.0.7 in /usr/local/lib/python3.10/dist-packages (from streamlit) (3.1.44)\n",
            "Collecting pydeck<1,>=0.8.0b4 (from streamlit)\n",
            "  Downloading pydeck-0.9.1-py2.py3-none-any.whl.metadata (4.1 kB)\n",
            "Requirement already satisfied: tornado<7,>=6.0.3 in /usr/local/lib/python3.10/dist-packages (from streamlit) (6.3.3)\n",
            "Requirement already satisfied: jinja2 in /usr/local/lib/python3.10/dist-packages (from altair<6,>=4.0->streamlit) (3.1.5)\n",
            "Requirement already satisfied: jsonschema>=3.0 in /usr/local/lib/python3.10/dist-packages (from altair<6,>=4.0->streamlit) (4.23.0)\n",
            "Requirement already satisfied: narwhals>=1.14.2 in /usr/local/lib/python3.10/dist-packages (from altair<6,>=4.0->streamlit) (1.21.0)\n",
            "Requirement already satisfied: gitdb<5,>=4.0.1 in /usr/local/lib/python3.10/dist-packages (from gitpython!=3.1.19,<4,>=3.0.7->streamlit) (4.0.12)\n",
            "Requirement already satisfied: python-dateutil>=2.8.2 in /usr/local/lib/python3.10/dist-packages (from pandas<3,>=1.4.0->streamlit) (2.8.2)\n",
            "Requirement already satisfied: pytz>=2020.1 in /usr/local/lib/python3.10/dist-packages (from pandas<3,>=1.4.0->streamlit) (2024.2)\n",
            "Requirement already satisfied: tzdata>=2022.7 in /usr/local/lib/python3.10/dist-packages (from pandas<3,>=1.4.0->streamlit) (2024.2)\n",
            "Requirement already satisfied: charset-normalizer<4,>=2 in /usr/local/lib/python3.10/dist-packages (from requests<3,>=2.27->streamlit) (3.4.1)\n",
            "Requirement already satisfied: idna<4,>=2.5 in /usr/local/lib/python3.10/dist-packages (from requests<3,>=2.27->streamlit) (3.10)\n",
            "Requirement already satisfied: urllib3<3,>=1.21.1 in /usr/local/lib/python3.10/dist-packages (from requests<3,>=2.27->streamlit) (2.3.0)\n",
            "Requirement already satisfied: certifi>=2017.4.17 in /usr/local/lib/python3.10/dist-packages (from requests<3,>=2.27->streamlit) (2024.12.14)\n",
            "Requirement already satisfied: markdown-it-py>=2.2.0 in /usr/local/lib/python3.10/dist-packages (from rich<14,>=10.14.0->streamlit) (3.0.0)\n",
            "Requirement already satisfied: pygments<3.0.0,>=2.13.0 in /usr/local/lib/python3.10/dist-packages (from rich<14,>=10.14.0->streamlit) (2.18.0)\n",
            "Requirement already satisfied: smmap<6,>=3.0.1 in /usr/local/lib/python3.10/dist-packages (from gitdb<5,>=4.0.1->gitpython!=3.1.19,<4,>=3.0.7->streamlit) (5.0.2)\n",
            "Requirement already satisfied: MarkupSafe>=2.0 in /usr/local/lib/python3.10/dist-packages (from jinja2->altair<6,>=4.0->streamlit) (3.0.2)\n",
            "Requirement already satisfied: attrs>=22.2.0 in /usr/local/lib/python3.10/dist-packages (from jsonschema>=3.0->altair<6,>=4.0->streamlit) (24.3.0)\n",
            "Requirement already satisfied: jsonschema-specifications>=2023.03.6 in /usr/local/lib/python3.10/dist-packages (from jsonschema>=3.0->altair<6,>=4.0->streamlit) (2024.10.1)\n",
            "Requirement already satisfied: referencing>=0.28.4 in /usr/local/lib/python3.10/dist-packages (from jsonschema>=3.0->altair<6,>=4.0->streamlit) (0.35.1)\n",
            "Requirement already satisfied: rpds-py>=0.7.1 in /usr/local/lib/python3.10/dist-packages (from jsonschema>=3.0->altair<6,>=4.0->streamlit) (0.22.3)\n",
            "Requirement already satisfied: mdurl~=0.1 in /usr/local/lib/python3.10/dist-packages (from markdown-it-py>=2.2.0->rich<14,>=10.14.0->streamlit) (0.1.2)\n",
            "Requirement already satisfied: six>=1.5 in /usr/local/lib/python3.10/dist-packages (from python-dateutil>=2.8.2->pandas<3,>=1.4.0->streamlit) (1.17.0)\n",
            "Downloading streamlit-1.41.1-py2.py3-none-any.whl (9.1 MB)\n",
            "\u001b[2K   \u001b[90m━━━━━━━━━━━━━━━━━━━━━━━━━━━━━━━━━━━━━━━━\u001b[0m \u001b[32m9.1/9.1 MB\u001b[0m \u001b[31m39.7 MB/s\u001b[0m eta \u001b[36m0:00:00\u001b[0m\n",
            "\u001b[?25hDownloading pydeck-0.9.1-py2.py3-none-any.whl (6.9 MB)\n",
            "\u001b[2K   \u001b[90m━━━━━━━━━━━━━━━━━━━━━━━━━━━━━━━━━━━━━━━━\u001b[0m \u001b[32m6.9/6.9 MB\u001b[0m \u001b[31m43.9 MB/s\u001b[0m eta \u001b[36m0:00:00\u001b[0m\n",
            "\u001b[?25hDownloading watchdog-6.0.0-py3-none-manylinux2014_x86_64.whl (79 kB)\n",
            "\u001b[2K   \u001b[90m━━━━━━━━━━━━━━━━━━━━━━━━━━━━━━━━━━━━━━━━\u001b[0m \u001b[32m79.1/79.1 kB\u001b[0m \u001b[31m6.0 MB/s\u001b[0m eta \u001b[36m0:00:00\u001b[0m\n",
            "\u001b[?25hInstalling collected packages: watchdog, pydeck, streamlit\n",
            "Successfully installed pydeck-0.9.1 streamlit-1.41.1 watchdog-6.0.0\n",
            "Collecting pyngrok\n",
            "  Downloading pyngrok-7.2.3-py3-none-any.whl.metadata (8.7 kB)\n",
            "Requirement already satisfied: PyYAML>=5.1 in /usr/local/lib/python3.10/dist-packages (from pyngrok) (6.0.2)\n",
            "Downloading pyngrok-7.2.3-py3-none-any.whl (23 kB)\n",
            "Installing collected packages: pyngrok\n",
            "Successfully installed pyngrok-7.2.3\n"
          ]
        }
      ]
    },
    {
      "cell_type": "code",
      "source": [],
      "metadata": {
        "id": "D9ZMJTeb-SLJ"
      },
      "execution_count": null,
      "outputs": []
    },
    {
      "cell_type": "markdown",
      "source": [
        "- 1. dashboard.ngrok.com/ 에 접속 후 회원가입 및 로그인\n",
        "\n",
        "- 2. 로그인하면 dashboard.ngrok.com/get-started/setup 에 자동 접속됨\n",
        "\n",
        "![image.png](data:image/png;base64,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)"
      ],
      "metadata": {
        "id": "iyw9Fefi-U3K"
      }
    },
    {
      "cell_type": "code",
      "source": [
        "# authtoken 복사한다\n",
        "!ngrok authtoken 2rNnYnktLWEY4UdMZdQKoZUZOhH_6Rnp3adp8tgpMokcF2Cri"
      ],
      "metadata": {
        "colab": {
          "base_uri": "https://localhost:8080/"
        },
        "id": "8CWGr4AHtcJn",
        "outputId": "83655b4f-3a13-4603-c1dc-80095f2bac72"
      },
      "execution_count": 6,
      "outputs": [
        {
          "output_type": "stream",
          "name": "stdout",
          "text": [
            "Authtoken saved to configuration file: /root/.config/ngrok/ngrok.yml\n"
          ]
        }
      ]
    },
    {
      "cell_type": "code",
      "source": [
        "# 파일 생성\n",
        "%%writefile app.py\n",
        "import streamlit as st\n",
        "import pandas as pd\n",
        "\n",
        "st.title('고객 이탈 예측')\n",
        "\n",
        "st.subheader('데이터셋을 업로드하세요')\n",
        "upload_file = st.file_uploader(\"CSV 파일을 업로드\", type=[\"CSV\"])\n",
        "\n",
        "if upload_file is not None:\n",
        "    data = pd.read_csv(upload_file)\n",
        "    st.write(data.head())\n"
      ],
      "metadata": {
        "colab": {
          "base_uri": "https://localhost:8080/"
        },
        "id": "aaK7pon67qMY",
        "outputId": "8eae1265-2d88-4591-a5c8-97585f50588d"
      },
      "execution_count": 7,
      "outputs": [
        {
          "output_type": "stream",
          "name": "stdout",
          "text": [
            "Overwriting app.py\n"
          ]
        }
      ]
    },
    {
      "cell_type": "code",
      "source": [
        "!streamlit run app.py &>/dev/null&\n"
      ],
      "metadata": {
        "id": "wsvLfrKC9dO7"
      },
      "execution_count": 8,
      "outputs": []
    },
    {
      "cell_type": "code",
      "source": [
        "from pyngrok import ngrok\n",
        "\n",
        "\n",
        "# ngrok을 사용하여 포트 8501에 대한 외부 URL 생성\n",
        "public_url = ngrok.connect(addr='8501')\n",
        "public_url\n"
      ],
      "metadata": {
        "colab": {
          "base_uri": "https://localhost:8080/"
        },
        "id": "j8yY8bjs8H_4",
        "outputId": "e7fa9215-c3a7-4185-cf20-9fae0cb058e4"
      },
      "execution_count": 9,
      "outputs": [
        {
          "output_type": "execute_result",
          "data": {
            "text/plain": [
              "<NgrokTunnel: \"https://acf5-35-203-128-31.ngrok-free.app\" -> \"http://localhost:8501\">"
            ]
          },
          "metadata": {},
          "execution_count": 9
        }
      ]
    },
    {
      "cell_type": "code",
      "source": [],
      "metadata": {
        "id": "LKlc0dw58Jui"
      },
      "execution_count": null,
      "outputs": []
    }
  ]
}