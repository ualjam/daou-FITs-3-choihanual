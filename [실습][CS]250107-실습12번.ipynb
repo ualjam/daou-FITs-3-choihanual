{
  "nbformat": 4,
  "nbformat_minor": 0,
  "metadata": {
    "colab": {
      "provenance": [],
      "authorship_tag": "ABX9TyOdHmeuiV+nbQNHxJjlUa6V",
      "include_colab_link": true
    },
    "kernelspec": {
      "name": "python3",
      "display_name": "Python 3"
    },
    "language_info": {
      "name": "python"
    }
  },
  "cells": [
    {
      "cell_type": "markdown",
      "metadata": {
        "id": "view-in-github",
        "colab_type": "text"
      },
      "source": [
        "<a href=\"https://colab.research.google.com/github/ualjam/daou-FITs-3-choihanual/blob/%EC%8B%A4%EC%8A%B5/%5B%EC%8B%A4%EC%8A%B5%5D%5BCS%5D250107_%EC%8B%A4%EC%8A%B512%EB%B2%88.ipynb\" target=\"_parent\"><img src=\"https://colab.research.google.com/assets/colab-badge.svg\" alt=\"Open In Colab\"/></a>"
      ]
    },
    {
      "cell_type": "code",
      "execution_count": 1,
      "metadata": {
        "id": "YMK0ZpOAXRb-"
      },
      "outputs": [],
      "source": [
        "# 배열 초기화\n",
        "arr=[1,2,3,4,5]\n",
        "\n",
        "arr_zeros = [0]*5\n",
        "arr_ones = [1]*5"
      ]
    },
    {
      "cell_type": "code",
      "source": [
        "# 배열 요소 접근\n",
        "arr = [10,20,30,40,50]\n",
        "\n",
        "print(arr[0])\n",
        "print(arr[2])\n",
        "print(arr[-1])"
      ],
      "metadata": {
        "colab": {
          "base_uri": "https://localhost:8080/"
        },
        "id": "jxgJX6voXkET",
        "outputId": "f7d654e2-8aba-447e-acc9-286fd04730e2"
      },
      "execution_count": 2,
      "outputs": [
        {
          "output_type": "stream",
          "name": "stdout",
          "text": [
            "10\n",
            "30\n",
            "50\n"
          ]
        }
      ]
    },
    {
      "cell_type": "code",
      "source": [
        "# 배열의 길이 구하기\n",
        "arr=[1,2,3,4,5]\n",
        "\n",
        "print(len(arr))"
      ],
      "metadata": {
        "colab": {
          "base_uri": "https://localhost:8080/"
        },
        "id": "bbyki7s5XnL9",
        "outputId": "23f8a43e-89ca-4446-92ac-838b255833c7"
      },
      "execution_count": 3,
      "outputs": [
        {
          "output_type": "stream",
          "name": "stdout",
          "text": [
            "5\n"
          ]
        }
      ]
    }
  ]
}
