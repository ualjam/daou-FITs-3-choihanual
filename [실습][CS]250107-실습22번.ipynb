{
  "nbformat": 4,
  "nbformat_minor": 0,
  "metadata": {
    "colab": {
      "provenance": [],
      "authorship_tag": "ABX9TyM2y913TF3MpaXiXcKbbELX",
      "include_colab_link": true
    },
    "kernelspec": {
      "name": "python3",
      "display_name": "Python 3"
    },
    "language_info": {
      "name": "python"
    }
  },
  "cells": [
    {
      "cell_type": "markdown",
      "metadata": {
        "id": "view-in-github",
        "colab_type": "text"
      },
      "source": [
        "<a href=\"https://colab.research.google.com/github/ualjam/daou-FITs-3-choihanual/blob/%EC%8B%A4%EC%8A%B5/%5B%EC%8B%A4%EC%8A%B5%5D%5BCS%5D250107-%EC%8B%A4%EC%8A%B522%EB%B2%88.ipynb\" target=\"_parent\"><img src=\"https://colab.research.google.com/assets/colab-badge.svg\" alt=\"Open In Colab\"/></a>"
      ]
    },
    {
      "cell_type": "code",
      "execution_count": null,
      "metadata": {
        "id": "v9eHyiZ39zc4"
      },
      "outputs": [],
      "source": [
        "def add(a,b):\n",
        "    return a+b\n",
        "\n",
        "def subtract(a, b):\n",
        "    return a-b"
      ]
    },
    {
      "cell_type": "code",
      "source": [
        "import unittest\n",
        "from mymodule import add, subtract\n",
        "\n",
        "class TestMathFunctions(unittest.TestCase):\n",
        "    def test_add(self):\n",
        "        self.assertEqual(add(1,2), 3)\n",
        "\n",
        "    def test_subtract(self):\n",
        "        self.assertEqual(subtract(5,3), 2)\n",
        "\n",
        "    def test_add_negative(self):\n",
        "        self.assertEqual(add(-1,-2),-3)\n",
        "\n",
        "    def test_subtract_negative(self):\n",
        "        self.assertEqual(subtract(-5,-3), -2)\n",
        "\n",
        "if __name__ == '__main__':\n",
        "    unittest.main(argv=['first-arg-is-ignored'], exit=False)"
      ],
      "metadata": {
        "colab": {
          "base_uri": "https://localhost:8080/"
        },
        "id": "BMZlN0_G-3aw",
        "outputId": "4c88e5c6-cf8a-4d8c-861d-bba1b451c1e4"
      },
      "execution_count": 6,
      "outputs": [
        {
          "output_type": "stream",
          "name": "stderr",
          "text": [
            "....\n",
            "----------------------------------------------------------------------\n",
            "Ran 4 tests in 0.013s\n",
            "\n",
            "OK\n"
          ]
        }
      ]
    }
  ]
}