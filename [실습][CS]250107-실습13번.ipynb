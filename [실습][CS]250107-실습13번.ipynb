{
  "nbformat": 4,
  "nbformat_minor": 0,
  "metadata": {
    "colab": {
      "provenance": [],
      "authorship_tag": "ABX9TyOyOly1fW1eE75orfKhDyLo",
      "include_colab_link": true
    },
    "kernelspec": {
      "name": "python3",
      "display_name": "Python 3"
    },
    "language_info": {
      "name": "python"
    }
  },
  "cells": [
    {
      "cell_type": "markdown",
      "metadata": {
        "id": "view-in-github",
        "colab_type": "text"
      },
      "source": [
        "<a href=\"https://colab.research.google.com/github/ualjam/daou-FITs-3-choihanual/blob/%EC%8B%A4%EC%8A%B5/%5B%EC%8B%A4%EC%8A%B5%5D%5BCS%5D250107_%EC%8B%A4%EC%8A%B513%EB%B2%88.ipynb\" target=\"_parent\"><img src=\"https://colab.research.google.com/assets/colab-badge.svg\" alt=\"Open In Colab\"/></a>"
      ]
    },
    {
      "cell_type": "code",
      "execution_count": 1,
      "metadata": {
        "colab": {
          "base_uri": "https://localhost:8080/"
        },
        "id": "6WJSL4z5ZcEx",
        "outputId": "09e5f9f6-36a1-4502-8c6b-a34c1bd53167"
      },
      "outputs": [
        {
          "output_type": "stream",
          "name": "stdout",
          "text": [
            "[1, 10, 2, 3, 4]\n",
            "[1, 1, 1, 1, 1]\n"
          ]
        }
      ],
      "source": [
        "# 배열의 요소 추가/삽입\n",
        "arr=[1,2,3]\n",
        "arr.append(4)\n",
        "arr.insert(1,10)\n",
        "arr_ones=[1]*5\n",
        "\n",
        "print(arr)\n",
        "print(arr_ones)"
      ]
    },
    {
      "cell_type": "code",
      "source": [
        "# 배열 요소 삭제\n",
        "arr=[10,20,30,40,50]\n",
        "arr.remove(30)\n",
        "arr.pop()\n",
        "arr.pop(0)\n",
        "\n",
        "print(arr)"
      ],
      "metadata": {
        "colab": {
          "base_uri": "https://localhost:8080/"
        },
        "id": "qnJ46TcIZu7x",
        "outputId": "a703ac09-8ece-4860-ad63-3933d84e932c"
      },
      "execution_count": 2,
      "outputs": [
        {
          "output_type": "stream",
          "name": "stdout",
          "text": [
            "[20, 40]\n"
          ]
        }
      ]
    },
    {
      "cell_type": "code",
      "source": [
        "# 배열 요소 수정\n",
        "arr=[1,2,3,4,5]\n",
        "arr[2]=99\n",
        "\n",
        "print(arr)"
      ],
      "metadata": {
        "colab": {
          "base_uri": "https://localhost:8080/"
        },
        "id": "ozcmA58vZ1DP",
        "outputId": "125a10da-82a7-430b-b07f-c3faa0f33100"
      },
      "execution_count": 3,
      "outputs": [
        {
          "output_type": "stream",
          "name": "stdout",
          "text": [
            "[1, 2, 99, 4, 5]\n"
          ]
        }
      ]
    },
    {
      "cell_type": "code",
      "source": [
        "# 배열 합치기\n",
        "arr1=[1,2,3]\n",
        "arr2=[4,5,6]\n",
        "arr3=arr1+arr2\n",
        "arr1.extend(arr2)\n",
        "\n",
        "print(arr1)"
      ],
      "metadata": {
        "colab": {
          "base_uri": "https://localhost:8080/"
        },
        "id": "KLUvTZBWaANb",
        "outputId": "43b5f028-f90b-4996-d2d5-fe5c66ac97e2"
      },
      "execution_count": 4,
      "outputs": [
        {
          "output_type": "stream",
          "name": "stdout",
          "text": [
            "[1, 2, 3, 4, 5, 6]\n"
          ]
        }
      ]
    }
  ]
}
